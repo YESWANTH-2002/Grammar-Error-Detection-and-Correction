{
 "cells": [
  {
   "cell_type": "code",
   "execution_count": 1,
   "id": "a57d3e97-fd4b-4589-a660-fc7ed722da26",
   "metadata": {
    "scrolled": true
   },
   "outputs": [
    {
     "name": "stdout",
     "output_type": "stream",
     "text": [
      "* Running on local URL:  http://127.0.0.1:7864\n",
      "* To create a public link, set `share=True` in `launch()`.\n"
     ]
    },
    {
     "data": {
      "text/html": [
       "<div><iframe src=\"http://127.0.0.1:7864/\" width=\"100%\" height=\"500\" allow=\"autoplay; camera; microphone; clipboard-read; clipboard-write;\" frameborder=\"0\" allowfullscreen></iframe></div>"
      ],
      "text/plain": [
       "<IPython.core.display.HTML object>"
      ]
     },
     "metadata": {},
     "output_type": "display_data"
    },
    {
     "data": {
      "text/plain": []
     },
     "execution_count": 1,
     "metadata": {},
     "output_type": "execute_result"
    }
   ],
   "source": [
    "import gradio as gr\n",
    "import language_tool_python\n",
    "import docx\n",
    "import PyPDF2\n",
    "from docx import Document\n",
    "\n",
    "# Initialize the grammar tool\n",
    "tool = language_tool_python.LanguageTool('en-US')\n",
    "\n",
    "\n",
    "# Function to extract text from uploaded files\n",
    "def extract_text_from_file(file):\n",
    "    text = \"\"\n",
    "    if file.name.endswith(\".docx\"):\n",
    "        doc = docx.Document(file)\n",
    "        for para in doc.paragraphs:\n",
    "            text += para.text + \"\\n\"\n",
    "    elif file.name.endswith(\".pdf\"):\n",
    "        reader = PyPDF2.PdfReader(file)\n",
    "        for page in reader.pages:\n",
    "            text += page.extract_text() + \"\\n\"\n",
    "    else:\n",
    "        text = file.read().decode(\"utf-8\")\n",
    "    return text\n",
    "\n",
    "\n",
    "# Function for correcting direct text input\n",
    "def correct_text(text):\n",
    "    matches = tool.check(text)\n",
    "    corrected = language_tool_python.utils.correct(text, matches)\n",
    "    summary = f\"🔍 Grammar issues found: {len(matches)}\"\n",
    "    return corrected, summary\n",
    "\n",
    "\n",
    "# Function for file correction + summary + downloadable output\n",
    "def correct_file(file):\n",
    "    raw_text = extract_text_from_file(file)\n",
    "    matches = tool.check(raw_text)\n",
    "    corrected = language_tool_python.utils.correct(raw_text, matches)\n",
    "\n",
    "    # Save corrected text to Word file\n",
    "    doc = Document()\n",
    "    doc.add_paragraph(corrected)\n",
    "    doc_path = \"Corrected_Output.docx\"\n",
    "    doc.save(doc_path)\n",
    "\n",
    "    summary = f\"📄 File processed.\\n🔍 Grammar issues found: {len(matches)}\"\n",
    "\n",
    "    return corrected, summary, doc_path\n",
    "\n",
    "\n",
    "# Gradio Blocks UI\n",
    "with gr.Blocks(title=\"Grammar Error Detection and Correction\") as app:\n",
    "    gr.Markdown(\"## 📝 Grammar Error Detection & Correction\\nThis app supports live typing and file upload correction.\")\n",
    "\n",
    "    with gr.Tab(\"1️⃣ Direct Text Input\"):\n",
    "        input_text = gr.Textbox(label=\"Enter text\", lines=5, placeholder=\"Type your sentence here...\")\n",
    "        corrected_output = gr.Textbox(label=\"Corrected Text\")\n",
    "        summary_output = gr.Textbox(label=\"Grammar Summary\")\n",
    "        btn1 = gr.Button(\"Correct\")\n",
    "        btn1.click(fn=correct_text, inputs=input_text, outputs=[corrected_output, summary_output])\n",
    "\n",
    "    with gr.Tab(\"2️⃣ File Upload\"):\n",
    "        file_input = gr.File(label=\"Upload PDF / DOCX / TXT\")\n",
    "        corrected_file_output = gr.Textbox(label=\"Corrected Text\")\n",
    "        file_summary_output = gr.Textbox(label=\"Grammar Summary\")\n",
    "        download_btn = gr.File(label=\"Download Corrected DOCX\")\n",
    "        btn2 = gr.Button(\"Process File\")\n",
    "        btn2.click(fn=correct_file, inputs=file_input, outputs=[corrected_file_output, file_summary_output, download_btn])\n",
    "\n",
    "app.launch()\n"
   ]
  },
  {
   "cell_type": "code",
   "execution_count": null,
   "id": "d9d03004-0967-4185-b5da-f9b479e9bfd0",
   "metadata": {},
   "outputs": [],
   "source": []
  }
 ],
 "metadata": {
  "kernelspec": {
   "display_name": "Python [conda env:base] *",
   "language": "python",
   "name": "conda-base-py"
  },
  "language_info": {
   "codemirror_mode": {
    "name": "ipython",
    "version": 3
   },
   "file_extension": ".py",
   "mimetype": "text/x-python",
   "name": "python",
   "nbconvert_exporter": "python",
   "pygments_lexer": "ipython3",
   "version": "3.12.7"
  }
 },
 "nbformat": 4,
 "nbformat_minor": 5
}
